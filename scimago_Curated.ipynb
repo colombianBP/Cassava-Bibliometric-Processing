{
 "cells": [
  {
   "cell_type": "markdown",
   "id": "6aeeed56-c5de-4081-8563-5f3cc3cd1b25",
   "metadata": {},
   "source": [
    "# Enrichment with Scimago journal data"
   ]
  },
  {
   "cell_type": "code",
   "execution_count": null,
   "id": "9708084e-42c8-4a22-9ed7-e4d8dc9aa603",
   "metadata": {},
   "outputs": [],
   "source": [
    "import pandas as pd\n",
    "import numpy as np\n",
    "import textdistance as tx\n",
    "from itertools import repeat\n",
    "import time\n",
    "import matplotlib.pyplot as plt\n",
    "import statistics as st\n",
    "from fuzzywuzzy import fuzz\n",
    "%matplotlib inline"
   ]
  },
  {
   "cell_type": "code",
   "execution_count": null,
   "id": "feb4290b-8209-4a27-8507-39fd694c91d9",
   "metadata": {},
   "outputs": [],
   "source": [
    "punc = '''!()-[]{};:'\"\\,<>./?@#$%^*_~'''\n",
    "punc2 = '&'\n",
    "def limpieza(x):\n",
    "    y=x\n",
    "    for ele in y:\n",
    "        if ele in punc:\n",
    "            y = y.replace(ele, \"\")\n",
    "        elif ele in punc2:\n",
    "            y = y.replace('&','and')\n",
    "    y=y.lower()\n",
    "    y=y.strip()\n",
    "    y=y.replace('  ',' ')\n",
    "    y=y.replace('  ',' ')\n",
    "    return(y)"
   ]
  },
  {
   "cell_type": "code",
   "execution_count": null,
   "id": "6577b986-8654-42b6-9e69-bb06b7f77b5f",
   "metadata": {},
   "outputs": [],
   "source": [
    "#path to the unified wos data\n",
    "path = 'D:/trabajo CIAT/yuca/mis_datos/unificandodeag/datav6.csv'\n",
    "\n",
    "data=pd.read_csv(path,low_memory=False)\n",
    "data=np.unique(np.array(data['SO']).astype(str))\n",
    "data=np.array(list(map(limpieza,data)))\n",
    "tabla = pd.DataFrame(columns=['list','match','sim','year'])\n",
    "tablat = pd.DataFrame(columns=['list','match','sim','year'])\n",
    "\n",
    "\n",
    "#path to the folder containing all scimago files\n",
    "path='D:/trabajo CIAT/yuca/mis_datos/varios/scimago/'\n",
    "\n",
    "#first year to search on\n",
    "first=1999\n",
    "\n",
    "#last year to search on\n",
    "last=2021\n",
    "\n",
    "for i in range(first,last):\n",
    "    start=time.time()\n",
    "\n",
    "    crudo=pd.read_csv(path +'scimagojr ' + str(i) + '.csv',low_memory=False,sep=';')\n",
    "    crudo=crudo['Title']\n",
    "    crudo=np.array(list(map(limpieza,crudo)))\n",
    "    tuples_list = [max([(fuzz.ratio(k,j),j) for j in crudo]) for k in data]\n",
    "    similarity_score, fuzzy_match = map(list,zip(*tuples_list))\n",
    "    \n",
    "    # Create pandas DataFrame\n",
    "    df = pd.DataFrame({\"list\":data, \"match\": fuzzy_match, \"sim\":similarity_score})\n",
    "    df['year'] = list(repeat(i,df.shape[0]))\n",
    "    dfa = df[df['sim']==100]\n",
    "    dfa=dfa.reset_index(drop=True)\n",
    "    dfb = df[df['sim']!=100]\n",
    "    dfb=dfb.reset_index(drop=True)\n",
    "    data = np.array(list(map(limpieza,list(dfb['list']))))\n",
    "    tabla=tabla.append(dfa,ignore_index=True)\n",
    "    if tablat.shape[0]<2:\n",
    "        tablat=dfb\n",
    "        tablat=tablat.reset_index(drop=True)\n",
    "        print(i)\n",
    "        print(time.time()-start)\n",
    "        continue\n",
    "    for j in range(dfb.shape[0]):\n",
    "        indice=list(tablat['list']).index(list(dfb['list'])[j])\n",
    "        if list(dfb['sim'])[j] > list(tablat['sim'])[indice]:\n",
    "            tablat.loc[indice,'sim']=dfb.loc[j,'sim']\n",
    "            tablat.loc[indice,'match']=dfb.loc[j,'match']\n",
    "            tablat.loc[indice,'year']=i\n",
    "    boleano=[]\n",
    "    for x in list(tablat['list']):\n",
    "        if (x in list(dfa['list'])):\n",
    "            boleano.append(False)\n",
    "        else:\n",
    "            boleano.append(True)\n",
    "    tablat=tablat[boleano]\n",
    "    tablat=tablat.reset_index(drop=True)\n",
    "    print(i)\n",
    "    print(time.time()-start)"
   ]
  },
  {
   "cell_type": "code",
   "execution_count": null,
   "id": "73f186d5-3dea-4c50-ada9-ab538f2f20b9",
   "metadata": {},
   "outputs": [],
   "source": [
    "print(tablat.shape)\n",
    "print(tabla.shape)\n",
    "print(len(data))\n",
    "print(tablat.shape[0]+tabla.shape[0])"
   ]
  },
  {
   "cell_type": "code",
   "execution_count": null,
   "id": "bdeed39b-a0e5-4692-8eb8-b4b6fa70f3a6",
   "metadata": {},
   "outputs": [],
   "source": [
    "#A table 'tablat.csv' will be written, were non-perfect journal name matches will be shown, \n",
    "#it is necesary to manually add a column called 'confirm' and fill in a '1' (without quotation marks) \n",
    "#to indicate a succesfull match\n",
    "\n",
    "tabla.to_csv('tabla.csv')\n",
    "tablat.to_csv('tablat.csv')\n",
    "dfa.to_csv('dfa.csv')\n",
    "dfb.to_csv('dfb.csv')"
   ]
  },
  {
   "cell_type": "code",
   "execution_count": null,
   "id": "dd1c2ce3-59b0-44cc-a7f0-0f8dae7e8011",
   "metadata": {},
   "outputs": [],
   "source": [
    "tabla=pd.read_csv('tabla.csv')\n",
    "tablat=pd.read_csv('tablat.csv')\n",
    "\n",
    "tablat=tablat[tablat['confirm']==1]\n",
    "\n",
    "vlist=list(tablat.list)\n",
    "mlist=list(tablat.match)\n",
    "slist=list(tablat.sim)\n",
    "ylist=list(tablat.year)\n",
    "\n",
    "datat=pd.DataFrame(list(zip(vlist,mlist,slist,ylist)),columns=['list', 'match', 'sim', 'year'])\n",
    "\n",
    "mapa=datat.append(tabla,ignore_index=True)\n",
    "\n",
    "mapa"
   ]
  },
  {
   "cell_type": "code",
   "execution_count": null,
   "id": "6759d627-7111-4006-9826-9cf5071baef2",
   "metadata": {},
   "outputs": [],
   "source": [
    "punc = '''!()-[]{};:'\"\\,<>./?@#$%^*_~'''\n",
    "punc2 = '&'\n",
    "def limpieza(x):\n",
    "    y=x\n",
    "    for ele in y:\n",
    "        if ele in punc:\n",
    "            y = y.replace(ele, \"\")\n",
    "        elif ele in punc2:\n",
    "            y = y.replace('&','and')\n",
    "    y=y.lower()\n",
    "    y=y.strip()\n",
    "    y=y.replace('  ',' ')\n",
    "    y=y.replace('  ',' ')\n",
    "    return(y)"
   ]
  },
  {
   "cell_type": "code",
   "execution_count": null,
   "id": "2df00475-fe96-431f-a020-5ff5ba143a75",
   "metadata": {},
   "outputs": [],
   "source": [
    "#path to the latest year of scimago data \n",
    "path='D:/trabajo CIAT/yuca/mis_datos/varios/scimago/scimagojr 2020.csv'\n",
    "crudo=pd.read_csv(path,low_memory=False,sep=';')\n",
    "\n",
    "#path to the unified wos data\n",
    "path = 'D:/trabajo CIAT/yuca/mis_datos/unificandodeag/datav6.csv'\n",
    "data=pd.read_csv(path,low_memory=False)"
   ]
  },
  {
   "cell_type": "code",
   "execution_count": null,
   "id": "88949010-507a-4a1b-9bee-034e26288469",
   "metadata": {},
   "outputs": [],
   "source": [
    "titulos=list(map(limpieza,(list(crudo.Title))))\n",
    "ini=list(map(limpieza,(list(data['SO'].astype(str)))))"
   ]
  },
  {
   "cell_type": "code",
   "execution_count": null,
   "id": "5ae54977-f649-4c44-af2b-d69668421879",
   "metadata": {},
   "outputs": [],
   "source": [
    "#path to the folder containing all scimago files\n",
    "path='D:/trabajo CIAT/yuca/mis_datos/varios/scimago/'\n",
    "\n",
    "#first year to search on\n",
    "first=1999\n",
    "\n",
    "#last year to search on\n",
    "last=2021\n",
    "\n",
    "\n",
    "truemap=pd.DataFrame()\n",
    "for j in range(first,last):\n",
    "    crudo=pd.read_csv(path + 'scimagojr ' + str(j) + '.csv',low_memory=False,sep=';')\n",
    "    titulos=list(map(limpieza,(list(crudo.Title))))\n",
    "    indices=[]\n",
    "    for i in ini:\n",
    "        try:\n",
    "            indices.append(titulos.index(i))\n",
    "        except:\n",
    "            indices.append(-1)\n",
    "    truemap[str(j)] = indices\n",
    "    #truemap=truemap.assign(j = indices)\n",
    "    #truemap=truemap.insert(indices)"
   ]
  },
  {
   "cell_type": "code",
   "execution_count": null,
   "id": "7a79107d-1710-4daa-9b00-a67e03df4f07",
   "metadata": {},
   "outputs": [],
   "source": [
    "max(indices)"
   ]
  },
  {
   "cell_type": "code",
   "execution_count": null,
   "id": "a4af34ec-7783-41ce-bf01-4adefefc4b52",
   "metadata": {},
   "outputs": [],
   "source": [
    "len(np.unique(np.array(indices)))"
   ]
  },
  {
   "cell_type": "code",
   "execution_count": null,
   "id": "fcc34e1e-8d76-4236-b1f8-85866e6b751d",
   "metadata": {},
   "outputs": [],
   "source": [
    "truemap[0:10]"
   ]
  },
  {
   "cell_type": "code",
   "execution_count": null,
   "id": "f15e3df1-c7ae-4a2b-9276-cc42028da5e3",
   "metadata": {},
   "outputs": [],
   "source": [
    "mapa"
   ]
  },
  {
   "cell_type": "code",
   "execution_count": null,
   "id": "985aeb93-7c70-45e5-8320-20bb47839ebd",
   "metadata": {},
   "outputs": [],
   "source": [
    "def encontar(x):\n",
    "    if(max(x)!=-1):\n",
    "        return(1)\n",
    "    else:\n",
    "        return(0)"
   ]
  },
  {
   "cell_type": "code",
   "execution_count": null,
   "id": "4abb3ff4-0901-4910-9e6c-7d9ec67c017a",
   "metadata": {},
   "outputs": [],
   "source": [
    "test=truemap.apply(encontar,axis=1)\n",
    "#test=np.array(list(test))"
   ]
  },
  {
   "cell_type": "markdown",
   "id": "d8746cb9-261a-439d-a363-6746bf43d69c",
   "metadata": {},
   "source": [
    "## Perfect find percentage"
   ]
  },
  {
   "cell_type": "code",
   "execution_count": null,
   "id": "1647d4e5-82e8-43b7-8979-96ef9d6b317e",
   "metadata": {},
   "outputs": [],
   "source": [
    "st.mean(test)"
   ]
  },
  {
   "cell_type": "markdown",
   "id": "457234e1-6a29-49ef-8e14-b4ca30a9e5b1",
   "metadata": {},
   "source": [
    "## Finding year and indexing"
   ]
  },
  {
   "cell_type": "code",
   "execution_count": null,
   "id": "e929c2d1-a143-414d-bce3-12d1b46c2162",
   "metadata": {},
   "outputs": [],
   "source": [
    "# x is the row of values of dataframe data(['SO'])\n",
    "# returns the closest year where it was found, and the index of its specific 'raw'\n",
    "\n",
    "def encontrar(x,ano):\n",
    "    #first year to search on\n",
    "    first=1999\n",
    "\n",
    "    #last year to search on\n",
    "    last=2020\n",
    "    \n",
    "    encontrado=True\n",
    "    bias=0\n",
    "    \n",
    "    if(ano<first):\n",
    "        ano=first\n",
    "    if(ano>last):\n",
    "        ano=last\n",
    "    if(max(list(truemap.iloc[x,:]))==-1):\n",
    "        return (-1,-1)\n",
    "    while encontrado:\n",
    "        if ano + bias <= last:\n",
    "            numero=truemap[str(ano+bias)][x]\n",
    "            if numero!= -1:\n",
    "                return(numero,ano+bias)\n",
    "        if ano - bias >= first:\n",
    "            if numero!= -1:\n",
    "                return(numero,ano-bias)\n",
    "        bias+=1\n",
    "        if ano + bias > last and ano - bias < first:\n",
    "            return(-2,-2)"
   ]
  },
  {
   "cell_type": "code",
   "execution_count": null,
   "id": "e3593ecd-b441-440d-b37c-b489ec4836cb",
   "metadata": {},
   "outputs": [],
   "source": [
    "anos=list(data['PY'].replace(np.nan, last).astype(int))"
   ]
  },
  {
   "cell_type": "code",
   "execution_count": null,
   "id": "76f31b91-171a-4415-9baa-d30706a555e2",
   "metadata": {},
   "outputs": [],
   "source": [
    "indices=list(map(encontrar,range(data.shape[0]),anos))"
   ]
  },
  {
   "cell_type": "code",
   "execution_count": null,
   "id": "d3ac6268-590a-46e7-a0ee-181bd170df28",
   "metadata": {},
   "outputs": [],
   "source": [
    "indicesdef = list(list(zip(*indices))[0])\n",
    "anosdef = list(list(zip(*indices))[1])"
   ]
  },
  {
   "cell_type": "code",
   "execution_count": null,
   "id": "c3dcec8e-2a8c-4d56-93f2-987d79853f03",
   "metadata": {},
   "outputs": [],
   "source": [
    "#first year to search on\n",
    "first=1999\n",
    "\n",
    "#last year to search on\n",
    "last=2021\n",
    "\n",
    "dataframes=list()\n",
    "for j in range(first, last):\n",
    "    #path to the folder containing all scimago files\n",
    "    path='D:/trabajo CIAT/yuca/mis_datos/varios/scimago/'\n",
    "    crudo=pd.read_csv(path + 'scimagojr ' + str(j) + '.csv',low_memory=False,sep=';')\n",
    "    titulos=list(map(limpieza,(list(crudo.Title))))\n",
    "    crudo['Title']=titulos\n",
    "    dataframes.append(crudo)"
   ]
  },
  {
   "cell_type": "code",
   "execution_count": null,
   "id": "a160b285-d4cc-4c69-9621-732118eb56ba",
   "metadata": {},
   "outputs": [],
   "source": [
    "lista=[]\n",
    "for i in range(data.shape[0]):\n",
    "    if(anosdef[i])<0:\n",
    "        lista.append(list(np.repeat(np.nan,20)))\n",
    "    else:\n",
    "        lista.append(list(dataframes[anosdef[i]-1999].iloc[indicesdef[i],:]))"
   ]
  },
  {
   "cell_type": "code",
   "execution_count": null,
   "id": "27575fe2-90bc-473a-82b4-f65109c1a9c7",
   "metadata": {},
   "outputs": [],
   "source": [
    "datafinal=pd.DataFrame(lista,columns=crudo.columns)"
   ]
  },
  {
   "cell_type": "code",
   "execution_count": null,
   "id": "11fc4153-e03a-4a10-b20e-7b9d97e46eea",
   "metadata": {},
   "outputs": [],
   "source": [
    "datafinal"
   ]
  },
  {
   "cell_type": "code",
   "execution_count": null,
   "id": "b02ce524-c24e-400d-b69c-3302d09f7156",
   "metadata": {},
   "outputs": [],
   "source": [
    "#path to the unified wos data\n",
    "path = 'D:/trabajo CIAT/yuca/mis_datos/unificandodeag/datav8.csv'\n",
    "\n",
    "data2=pd.read_csv(path,low_memory=False)"
   ]
  },
  {
   "cell_type": "code",
   "execution_count": null,
   "id": "02215751-43fa-4d54-85c5-d5468c098bcb",
   "metadata": {},
   "outputs": [],
   "source": [
    "data2=data2.iloc[:,5:]\n",
    "for i in range(len(list(crudo.columns))):\n",
    "    if(i!=2):\n",
    "        data2[list(crudo.columns)[i]]=datafinal[list(crudo.columns)[i]]\n",
    "    else:\n",
    "        data2['Journal']=datafinal[list(crudo.columns)[i]]"
   ]
  },
  {
   "cell_type": "code",
   "execution_count": null,
   "id": "6b3fa60f-14e6-439b-a7a8-7cf04c95509a",
   "metadata": {},
   "outputs": [],
   "source": [
    "#Path to the new unified file\n",
    "path = 'D:/trabajo CIAT/yuca/mis_datos/unificandodeag/datav9.xlsx'\n",
    "data2.to_excel(path,index=False)"
   ]
  }
 ],
 "metadata": {
  "kernelspec": {
   "display_name": "Python 3",
   "language": "python",
   "name": "python3"
  },
  "language_info": {
   "codemirror_mode": {
    "name": "ipython",
    "version": 3
   },
   "file_extension": ".py",
   "mimetype": "text/x-python",
   "name": "python",
   "nbconvert_exporter": "python",
   "pygments_lexer": "ipython3",
   "version": "3.8.8"
  }
 },
 "nbformat": 4,
 "nbformat_minor": 5
}
